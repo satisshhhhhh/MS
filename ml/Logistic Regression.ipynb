{
  "cells": [
    {
      "cell_type": "code",
      "execution_count": 2,
      "metadata": {
        "colab": {
          "base_uri": "https://localhost:8080/",
          "height": 206
        },
        "id": "6NXVzTSwl-4Z",
        "outputId": "3e43a006-992a-4008-c7b4-6cabe6d654ec"
      },
      "outputs": [
        {
          "name": "stdout",
          "output_type": "stream",
          "text": [
            "   Unnamed: 0  Age  Sex     ChestPain  RestBP  Chol  Fbs  RestECG  MaxHR  \\\n",
            "0           1   63    1       typical     145   233    1        2    150   \n",
            "1           2   67    1  asymptomatic     160   286    0        2    108   \n",
            "2           3   67    1  asymptomatic     120   229    0        2    129   \n",
            "3           4   37    1    nonanginal     130   250    0        0    187   \n",
            "4           5   41    0    nontypical     130   204    0        2    172   \n",
            "\n",
            "   ExAng  Oldpeak  Slope  Ca        Thal  AHD  \n",
            "0      0      2.3      3   0       fixed   No  \n",
            "1      1      1.5      2   3      normal  Yes  \n",
            "2      1      2.6      2   2  reversable  Yes  \n",
            "3      0      3.5      3   0      normal   No  \n",
            "4      0      1.4      1   0      normal   No  \n"
          ]
        },
        {
          "data": {
            "text/plain": [
              "'\\nage\\nsex\\nchest pain type (4 values)\\nresting blood pressure\\nserum cholestoral in mg/dl\\nfasting blood sugar > 120 mg/dl\\nresting electrocardiographic results (values 0,1,2)\\nmaximum heart rate achieved\\nexercise induced angina\\noldpeak = ST depression induced by exercise relative to rest\\nthe slope of the peak exercise ST segment\\nnumber of major vessels (0-3) colored by flourosopy\\nthal: 0 = normal; 1 = fixed defect; 2 = reversable defect\\n'"
            ]
          },
          "execution_count": 2,
          "metadata": {},
          "output_type": "execute_result"
        }
      ],
      "source": [
        "import pandas as pd\n",
        "import matplotlib.pyplot as plt\n",
        "heart = pd.read_csv(\"Heart.csv\")\n",
        "print(heart.head())\n",
        "'''\n",
        "age\n",
        "sex\n",
        "chest pain type (4 values)\n",
        "resting blood pressure\n",
        "serum cholestoral in mg/dl\n",
        "fasting blood sugar > 120 mg/dl\n",
        "resting electrocardiographic results (values 0,1,2)\n",
        "maximum heart rate achieved\n",
        "exercise induced angina\n",
        "oldpeak = ST depression induced by exercise relative to rest\n",
        "the slope of the peak exercise ST segment\n",
        "number of major vessels (0-3) colored by flourosopy\n",
        "thal: 0 = normal; 1 = fixed defect; 2 = reversable defect\n",
        "'''"
      ]
    },
    {
      "cell_type": "code",
      "execution_count": 3,
      "metadata": {},
      "outputs": [
        {
          "data": {
            "text/html": [
              "<div>\n",
              "<style scoped>\n",
              "    .dataframe tbody tr th:only-of-type {\n",
              "        vertical-align: middle;\n",
              "    }\n",
              "\n",
              "    .dataframe tbody tr th {\n",
              "        vertical-align: top;\n",
              "    }\n",
              "\n",
              "    .dataframe thead th {\n",
              "        text-align: right;\n",
              "    }\n",
              "</style>\n",
              "<table border=\"1\" class=\"dataframe\">\n",
              "  <thead>\n",
              "    <tr style=\"text-align: right;\">\n",
              "      <th></th>\n",
              "      <th>Unnamed: 0</th>\n",
              "      <th>Age</th>\n",
              "      <th>Sex</th>\n",
              "      <th>ChestPain</th>\n",
              "      <th>RestBP</th>\n",
              "      <th>Chol</th>\n",
              "      <th>Fbs</th>\n",
              "      <th>RestECG</th>\n",
              "      <th>MaxHR</th>\n",
              "      <th>ExAng</th>\n",
              "      <th>Oldpeak</th>\n",
              "      <th>Slope</th>\n",
              "      <th>Ca</th>\n",
              "      <th>Thal</th>\n",
              "      <th>AHD</th>\n",
              "    </tr>\n",
              "  </thead>\n",
              "  <tbody>\n",
              "    <tr>\n",
              "      <th>0</th>\n",
              "      <td>1</td>\n",
              "      <td>63</td>\n",
              "      <td>1</td>\n",
              "      <td>3</td>\n",
              "      <td>145</td>\n",
              "      <td>233</td>\n",
              "      <td>1</td>\n",
              "      <td>2</td>\n",
              "      <td>150</td>\n",
              "      <td>0</td>\n",
              "      <td>2.3</td>\n",
              "      <td>3</td>\n",
              "      <td>0</td>\n",
              "      <td>0</td>\n",
              "      <td>0</td>\n",
              "    </tr>\n",
              "    <tr>\n",
              "      <th>1</th>\n",
              "      <td>2</td>\n",
              "      <td>67</td>\n",
              "      <td>1</td>\n",
              "      <td>0</td>\n",
              "      <td>160</td>\n",
              "      <td>286</td>\n",
              "      <td>0</td>\n",
              "      <td>2</td>\n",
              "      <td>108</td>\n",
              "      <td>1</td>\n",
              "      <td>1.5</td>\n",
              "      <td>2</td>\n",
              "      <td>3</td>\n",
              "      <td>1</td>\n",
              "      <td>1</td>\n",
              "    </tr>\n",
              "    <tr>\n",
              "      <th>2</th>\n",
              "      <td>3</td>\n",
              "      <td>67</td>\n",
              "      <td>1</td>\n",
              "      <td>0</td>\n",
              "      <td>120</td>\n",
              "      <td>229</td>\n",
              "      <td>0</td>\n",
              "      <td>2</td>\n",
              "      <td>129</td>\n",
              "      <td>1</td>\n",
              "      <td>2.6</td>\n",
              "      <td>2</td>\n",
              "      <td>2</td>\n",
              "      <td>2</td>\n",
              "      <td>1</td>\n",
              "    </tr>\n",
              "    <tr>\n",
              "      <th>3</th>\n",
              "      <td>4</td>\n",
              "      <td>37</td>\n",
              "      <td>1</td>\n",
              "      <td>1</td>\n",
              "      <td>130</td>\n",
              "      <td>250</td>\n",
              "      <td>0</td>\n",
              "      <td>0</td>\n",
              "      <td>187</td>\n",
              "      <td>0</td>\n",
              "      <td>3.5</td>\n",
              "      <td>3</td>\n",
              "      <td>0</td>\n",
              "      <td>1</td>\n",
              "      <td>0</td>\n",
              "    </tr>\n",
              "    <tr>\n",
              "      <th>4</th>\n",
              "      <td>5</td>\n",
              "      <td>41</td>\n",
              "      <td>0</td>\n",
              "      <td>2</td>\n",
              "      <td>130</td>\n",
              "      <td>204</td>\n",
              "      <td>0</td>\n",
              "      <td>2</td>\n",
              "      <td>172</td>\n",
              "      <td>0</td>\n",
              "      <td>1.4</td>\n",
              "      <td>1</td>\n",
              "      <td>0</td>\n",
              "      <td>1</td>\n",
              "      <td>0</td>\n",
              "    </tr>\n",
              "  </tbody>\n",
              "</table>\n",
              "</div>"
            ],
            "text/plain": [
              "   Unnamed: 0  Age  Sex  ChestPain  RestBP  Chol  Fbs  RestECG  MaxHR  ExAng  \\\n",
              "0           1   63    1          3     145   233    1        2    150      0   \n",
              "1           2   67    1          0     160   286    0        2    108      1   \n",
              "2           3   67    1          0     120   229    0        2    129      1   \n",
              "3           4   37    1          1     130   250    0        0    187      0   \n",
              "4           5   41    0          2     130   204    0        2    172      0   \n",
              "\n",
              "   Oldpeak  Slope  Ca  Thal  AHD  \n",
              "0      2.3      3   0     0    0  \n",
              "1      1.5      2   3     1    1  \n",
              "2      2.6      2   2     2    1  \n",
              "3      3.5      3   0     1    0  \n",
              "4      1.4      1   0     1    0  "
            ]
          },
          "execution_count": 3,
          "metadata": {},
          "output_type": "execute_result"
        }
      ],
      "source": []
    },
    {
      "cell_type": "code",
      "execution_count": 4,
      "metadata": {
        "colab": {
          "base_uri": "https://localhost:8080/"
        },
        "id": "i4tDwCxpxntj",
        "outputId": "be9f6e3b-62db-4a12-9c2c-5d96bfa7a460"
      },
      "outputs": [
        {
          "name": "stdout",
          "output_type": "stream",
          "text": [
            "     Age  Sex  ChestPain  RestBP  Chol  Fbs  RestECG  MaxHR  ExAng  Oldpeak  \\\n",
            "0     63    1          3     145   233    1        2    150      0      2.3   \n",
            "1     67    1          0     160   286    0        2    108      1      1.5   \n",
            "2     67    1          0     120   229    0        2    129      1      2.6   \n",
            "3     37    1          1     130   250    0        0    187      0      3.5   \n",
            "4     41    0          2     130   204    0        2    172      0      1.4   \n",
            "..   ...  ...        ...     ...   ...  ...      ...    ...    ...      ...   \n",
            "298   45    1          3     110   264    0        0    132      0      1.2   \n",
            "299   68    1          0     144   193    1        0    141      0      3.4   \n",
            "300   57    1          0     130   131    0        0    115      1      1.2   \n",
            "301   57    0          2     130   236    0        2    174      0      0.0   \n",
            "302   38    1          1     138   175    0        0    173      0      0.0   \n",
            "\n",
            "     Slope  Ca  Thal  \n",
            "0        3   0     0  \n",
            "1        2   3     1  \n",
            "2        2   2     2  \n",
            "3        3   0     1  \n",
            "4        1   0     1  \n",
            "..     ...  ..   ...  \n",
            "298      2   0     2  \n",
            "299      2   2     2  \n",
            "300      2   1     2  \n",
            "301      2   1     1  \n",
            "302      1   0     1  \n",
            "\n",
            "[303 rows x 13 columns]\n"
          ]
        }
      ],
      "source": [
        "feature_cols = ['Age','Sex', 'ChestPain', 'RestBP','Chol','Fbs','RestECG', 'MaxHR', 'ExAng', 'Oldpeak', 'Slope', 'Ca', 'Thal']\n",
        "x = heart[feature_cols]\n",
        "y = heart.AHD\n",
        "print(x)"
      ]
    },
    {
      "cell_type": "code",
      "execution_count": 5,
      "metadata": {
        "id": "Dlo6zxKay2AH"
      },
      "outputs": [],
      "source": [
        "from sklearn.model_selection import train_test_split\n",
        "x_train, x_test, y_train, y_test = train_test_split(x, y, test_size=0.3, random_state=955)\n"
      ]
    },
    {
      "cell_type": "code",
      "execution_count": 6,
      "metadata": {
        "colab": {
          "base_uri": "https://localhost:8080/"
        },
        "id": "oEOdrcI-zG-G",
        "outputId": "8dbe3d66-e7b5-4ea0-fd9a-2ad7fbb5392c"
      },
      "outputs": [
        {
          "name": "stdout",
          "output_type": "stream",
          "text": [
            "Predicted Test Results : [0 1 0 0 0 0 0 0 1 1 0 0 0 0 1 1 0 0 0 0 1 0 1 0 0 0 0 0 1 0 1 0 0 1 1 0 1\n",
            " 0 0 1 1 1 0 1 1 0 0 0 1 0 0 0 0 0 1 0 1 0 1 1 0 0 0 1 1 0 0 1 0 0 0 1 1 1\n",
            " 0 1 0 0 0 0 0 0 0 0 1 1 1 1 1 1 1]\n"
          ]
        },
        {
          "name": "stderr",
          "output_type": "stream",
          "text": [
            "c:\\Users\\HP\\AppData\\Local\\Programs\\Python\\Python39\\lib\\site-packages\\sklearn\\linear_model\\_logistic.py:763: ConvergenceWarning: lbfgs failed to converge (status=1):\n",
            "STOP: TOTAL NO. of ITERATIONS REACHED LIMIT.\n",
            "\n",
            "Increase the number of iterations (max_iter) or scale the data as shown in:\n",
            "    https://scikit-learn.org/stable/modules/preprocessing.html\n",
            "Please also refer to the documentation for alternative solver options:\n",
            "    https://scikit-learn.org/stable/modules/linear_model.html#logistic-regression\n",
            "  n_iter_i = _check_optimize_result(\n"
          ]
        }
      ],
      "source": [
        "from sklearn.linear_model import LogisticRegression\n",
        "\n",
        "logreg = LogisticRegression()\n",
        "\n",
        "logreg.fit(x_train, y_train)\n",
        "\n",
        "y_pred=logreg.predict(x_test)\n",
        "\n",
        "print(\"Predicted Test Results :\", y_pred)\n",
        "\n"
      ]
    },
    {
      "cell_type": "code",
      "execution_count": 7,
      "metadata": {
        "colab": {
          "base_uri": "https://localhost:8080/"
        },
        "id": "6L3VTk_S1Rgj",
        "outputId": "62bac35f-25d2-4452-a348-694232846407"
      },
      "outputs": [
        {
          "data": {
            "text/plain": [
              "array([[46,  5],\n",
              "       [ 9, 31]], dtype=int64)"
            ]
          },
          "execution_count": 7,
          "metadata": {},
          "output_type": "execute_result"
        }
      ],
      "source": [
        "from sklearn import metrics\n",
        "cnf_matrix = metrics.confusion_matrix(y_test, y_pred)\n",
        "cnf_matrix\n",
        "#TP FP\n",
        "#FN TN"
      ]
    },
    {
      "cell_type": "code",
      "execution_count": 8,
      "metadata": {
        "colab": {
          "base_uri": "https://localhost:8080/"
        },
        "id": "Jaxgn52z39eY",
        "outputId": "7d5c373c-63c9-4fa7-a85a-c02250124203"
      },
      "outputs": [
        {
          "name": "stdout",
          "output_type": "stream",
          "text": [
            "Accuracy:  0.8461538461538461\n",
            "Precision:  0.8611111111111112\n",
            "Recall:  0.775\n"
          ]
        }
      ],
      "source": [
        "print(\"Accuracy: \", metrics.accuracy_score(y_test, y_pred))\n",
        "#precision = (TP) / (TP+FP)\n",
        "print(\"Precision: \", metrics.precision_score(y_test, y_pred))\n",
        "#recall = (TP) / (TP+FN)\n",
        "print(\"Recall: \", metrics.recall_score(y_test, y_pred))"
      ]
    },
    {
      "cell_type": "code",
      "execution_count": 9,
      "metadata": {
        "colab": {
          "base_uri": "https://localhost:8080/",
          "height": 265
        },
        "id": "o6bpQl2X4hmh",
        "outputId": "6470b114-e4c5-42e5-92c2-ffc293622a7b"
      },
      "outputs": [
        {
          "data": {
            "image/png": "[encoded data removed]",
            "text/plain": [
              "<Figure size 432x288 with 1 Axes>"
            ]
          },
          "metadata": {
            "needs_background": "light"
          },
          "output_type": "display_data"
        }
      ],
      "source": [
        "\"\"\"\n",
        "ROC - Receiver Operating Characteristic curve is a plot of the true positive rate againt the false positive rate.\n",
        "It shows the tradeoff between sensitivity and specificity\n",
        "\n",
        "The predict method is used to predict the actual class while predict_proba method\n",
        "can be used to infer the class probabilities\n",
        "\n",
        "AUC score for our case is 0.92\n",
        "1 represents perfect classifier\n",
        "0.5 represents a worthless classifier \n",
        "\"\"\"\n",
        "\n",
        "\n",
        "y_pred_p = logreg.predict_proba(x_test)[::,1]\n",
        "fpr, tpr, _ = metrics.roc_curve(y_test, y_pred_p)\n",
        "auc = metrics.roc_auc_score(y_test, y_pred_p)\n",
        "plt.plot(fpr,tpr, label =\"heart disease  , AUC=\"+str(auc),color=\"teal\")\n",
        "plt.legend(loc=4)\n",
        "plt.xlabel('False Positive Rate')\n",
        "plt.ylabel('True Positive Rate')\n",
        "plt.show()"
      ]
    }
  ],
  "metadata": {
    "colab": {
      "name": "5 Logistic Regression.ipynb",
      "provenance": []
    },
    "kernelspec": {
      "display_name": "Python 3",
      "language": "python",
      "name": "python3"
    },
    "language_info": {
      "codemirror_mode": {
        "name": "ipython",
        "version": 3
      },
      "file_extension": ".py",
      "mimetype": "text/x-python",
      "name": "python",
      "nbconvert_exporter": "python",
      "pygments_lexer": "ipython3",
      "version": "3.10.2 (tags/v3.10.2:a58ebcc, Jan 17 2022, 14:12:15) [MSC v.1929 64 bit (AMD64)]"
    },
    "vscode": {
      "interpreter": {
        "hash": "07df5c1693f6086496078b39108660ea834d39fc1509994e8944cf7568f3431c"
      }
    }
  },
  "nbformat": 4,
  "nbformat_minor": 0
}
